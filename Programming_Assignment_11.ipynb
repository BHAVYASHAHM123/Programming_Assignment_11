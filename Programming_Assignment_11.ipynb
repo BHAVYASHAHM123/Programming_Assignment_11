{
  "cells": [
    {
      "cell_type": "markdown",
      "metadata": {
        "id": "p53oEmcBkQUP"
      },
      "source": [
        "### 1. Write a Python program to find words which are greater than given length k?"
      ]
    },
    {
      "cell_type": "code",
      "execution_count": null,
      "metadata": {
        "id": "nvaJPzCTkQUP",
        "outputId": "c07b1508-b45d-4d30-f8c1-6d97ad66a11e"
      },
      "outputs": [
        {
          "name": "stdout",
          "output_type": "stream",
          "text": [
            "The words greater than length of 5 in list are ['Orange', 'Banana']\n"
          ]
        }
      ],
      "source": [
        "def word_length(lst,k):\n",
        "    return [i for i in lst if len(i) > k]\n",
        "\n",
        "lst = [\"Apple\",\"Orange\",\"Banana\",\"Kivy\",\"Melon\"]\n",
        "k = 5\n",
        "print(f\"The words greater than length of {k} in list are {word_length(lst,k)}\")"
      ]
    },
    {
      "cell_type": "markdown",
      "metadata": {
        "id": "X1BNdjlCkQUR"
      },
      "source": [
        "<hr style=\"height:2px;border-width:0;color:gray;background-color:gray\">"
      ]
    },
    {
      "cell_type": "markdown",
      "metadata": {
        "id": "ZttT9e3LkQUR"
      },
      "source": [
        "### 2. Write a Python program for removing i-th character from a string?"
      ]
    },
    {
      "cell_type": "code",
      "execution_count": null,
      "metadata": {
        "id": "EY1yOp9vkQUR",
        "outputId": "742644b0-7e9a-4d64-c4d1-292472d2a1fd"
      },
      "outputs": [
        {
          "name": "stdout",
          "output_type": "stream",
          "text": [
            "The string after removal of i-th character alphbet\n"
          ]
        }
      ],
      "source": [
        "def remove_char(string, i):\n",
        "    string = string[:i] + string[i+1:]\n",
        "    return string\n",
        "\n",
        "str1 = \"alphabet\"\n",
        "print(f\"The string after removal of i-th character {remove_char(str1,4)}\")"
      ]
    },
    {
      "cell_type": "markdown",
      "metadata": {
        "id": "mVn5aUHkkQUS"
      },
      "source": [
        "<hr style=\"height:2px;border-width:0;color:gray;background-color:gray\">"
      ]
    },
    {
      "cell_type": "markdown",
      "metadata": {
        "id": "Fcyjx70tkQUS"
      },
      "source": [
        "### 3. Write a Python program to split and join a string?"
      ]
    },
    {
      "cell_type": "code",
      "execution_count": null,
      "metadata": {
        "id": "b12DYVhakQUT",
        "outputId": "245b970c-53d9-4d75-d1d7-821d2b7e2c53"
      },
      "outputs": [
        {
          "name": "stdout",
          "output_type": "stream",
          "text": [
            "The string after spliting ['Today', 'is', 'a', 'good', 'day']\n",
            "The string after spliting Today is a good day\n"
          ]
        }
      ],
      "source": [
        "string = \"Today is a good day\"\n",
        "\n",
        "split_string = string.split(\" \")\n",
        "print(f\"The string after spliting {split_string}\")\n",
        "\n",
        "join_string = \"\".join(string)\n",
        "print(f\"The string after spliting {join_string}\")"
      ]
    },
    {
      "cell_type": "markdown",
      "metadata": {
        "id": "w1Pe7kkRkQUT"
      },
      "source": [
        "<hr style=\"height:2px;border-width:0;color:gray;background-color:gray\">"
      ]
    },
    {
      "cell_type": "markdown",
      "metadata": {
        "id": "RE5yLGcAkQUU"
      },
      "source": [
        "### 4. Write a Python to check if a given string is binary string or not?"
      ]
    },
    {
      "cell_type": "code",
      "execution_count": null,
      "metadata": {
        "id": "KkCd3L7JkQUU",
        "outputId": "4e9b1bad-aeb7-4030-bb9e-c59f415ae2c8"
      },
      "outputs": [
        {
          "name": "stdout",
          "output_type": "stream",
          "text": [
            "Yes the string is binary string\n"
          ]
        }
      ],
      "source": [
        "def check(string) :\n",
        "    p = set(string)\n",
        "    s = {'0', '1'}\n",
        "    if s == p or p == {'0'} or p == {'1'}:\n",
        "        print(\"Yes the string is binary string\")\n",
        "    else :\n",
        "        print(\"No the string is not binary string\")\n",
        "\n",
        "string = \"101010000111\"\n",
        "check(string)\n"
      ]
    },
    {
      "cell_type": "markdown",
      "metadata": {
        "id": "Mk6d7IzckQUU"
      },
      "source": [
        "<hr style=\"height:2px;border-width:0;color:gray;background-color:gray\">"
      ]
    },
    {
      "cell_type": "markdown",
      "metadata": {
        "id": "vFVQlo9_kQUV"
      },
      "source": [
        "### 5. Write a Python program to find uncommon words from two Strings?"
      ]
    },
    {
      "cell_type": "code",
      "execution_count": null,
      "metadata": {
        "id": "AFT_vJYPkQUV",
        "outputId": "38bbd7d9-a59c-4cd0-c2ce-a66f70f9c40a"
      },
      "outputs": [
        {
          "name": "stdout",
          "output_type": "stream",
          "text": [
            "Uncommon words from two Strings are {'like', 'is', 'a', 'Today', 'I'}\n"
          ]
        }
      ],
      "source": [
        "def uncommon_words(str1,str2):\n",
        "    str1 = set(str1.split(\" \"))\n",
        "    str2 = set(str2.split(\" \"))\n",
        "    return str1.symmetric_difference(str2)\n",
        "\n",
        "string1 = \"Today is a sunny day\"\n",
        "string2 = \"I like sunny day\"\n",
        "print(f\"Uncommon words from two Strings are {uncommon_words(string1,string2)}\")"
      ]
    },
    {
      "cell_type": "markdown",
      "metadata": {
        "id": "hk0bVoVVkQUV"
      },
      "source": [
        "<hr style=\"height:2px;border-width:0;color:gray;background-color:gray\">"
      ]
    },
    {
      "cell_type": "markdown",
      "metadata": {
        "id": "NOzXX4Y7kQUV"
      },
      "source": [
        "### 6. Write a Python to find all duplicate characters in string?"
      ]
    },
    {
      "cell_type": "code",
      "execution_count": null,
      "metadata": {
        "id": "zoLAobGNkQUW",
        "outputId": "91c7bddd-970c-4e5b-9f62-dbc22630087a"
      },
      "outputs": [
        {
          "name": "stdout",
          "output_type": "stream",
          "text": [
            "All duplicate characters in string are {'a'}\n"
          ]
        }
      ],
      "source": [
        "def duplicate_char(string):\n",
        "    duplicate = []\n",
        "    for i in string:\n",
        "        if string.count(i) > 1:\n",
        "            duplicate.append(i)\n",
        "    return set(duplicate)\n",
        "\n",
        "string1 = \"alphabet\"\n",
        "print(f\"All duplicate characters in string are {duplicate_char(string1)}\")"
      ]
    },
    {
      "cell_type": "markdown",
      "metadata": {
        "id": "QR5jJTFhkQUW"
      },
      "source": [
        "<hr style=\"height:2px;border-width:0;color:gray;background-color:gray\">"
      ]
    },
    {
      "cell_type": "markdown",
      "metadata": {
        "id": "vt0lx2wYkQUW"
      },
      "source": [
        "### 7. Write a Python Program to check if a string contains any special character?"
      ]
    },
    {
      "cell_type": "code",
      "execution_count": null,
      "metadata": {
        "id": "QX5RLKBQkQUX",
        "outputId": "2292b3c4-a406-42ca-dbf0-63aad106458a"
      },
      "outputs": [
        {
          "name": "stdout",
          "output_type": "stream",
          "text": [
            "Enter any string: hello!\n",
            "The string contains special characters.\n"
          ]
        }
      ],
      "source": [
        "import re\n",
        "\n",
        "string = input('Enter any string: ')\n",
        " \n",
        "special_char = re.compile('[@_!#$%^&*()<>?/\\|}{~:]')\n",
        "\n",
        "if(special_char.search(string) == None):\n",
        "    print('String does not contain any special characters.')\n",
        "else:\n",
        "    print('The string contains special characters.')"
      ]
    },
    {
      "cell_type": "markdown",
      "metadata": {
        "id": "Lk1F-LopkQUX"
      },
      "source": [
        "<hr style=\"height:2px;border-width:0;color:gray;background-color:gray\">"
      ]
    }
  ],
  "metadata": {
    "kernelspec": {
      "display_name": "Python 3",
      "language": "python",
      "name": "python3"
    },
    "language_info": {
      "codemirror_mode": {
        "name": "ipython",
        "version": 3
      },
      "file_extension": ".py",
      "mimetype": "text/x-python",
      "name": "python",
      "nbconvert_exporter": "python",
      "pygments_lexer": "ipython3",
      "version": "3.8.3"
    },
    "colab": {
      "name": "Programming_Assignment_11.ipynb",
      "provenance": []
    }
  },
  "nbformat": 4,
  "nbformat_minor": 0
}